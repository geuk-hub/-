{
  "nbformat": 4,
  "nbformat_minor": 0,
  "metadata": {
    "colab": {
      "provenance": [],
      "gpuType": "T4",
      "machine_shape": "hm"
    },
    "kernelspec": {
      "name": "python3",
      "display_name": "Python 3"
    },
    "language_info": {
      "name": "python"
    }
  },
  "cells": [
    {
      "cell_type": "code",
      "source": [
        "from google.colab import drive\n",
        "drive.mount('/content/drive')"
      ],
      "metadata": {
        "id": "wqdq3miPSCe4",
        "colab": {
          "base_uri": "https://localhost:8080/"
        },
        "outputId": "c1b70eb4-787d-4ece-9578-ead987f289c3"
      },
      "execution_count": null,
      "outputs": [
        {
          "output_type": "stream",
          "name": "stdout",
          "text": [
            "Mounted at /content/drive\n"
          ]
        }
      ]
    },
    {
      "cell_type": "code",
      "source": [
        "import os\n",
        "os.environ[\"WANDB_DISABLED\"] = \"true\"\n",
        "\n",
        "import pandas as pd\n",
        "import numpy as np\n",
        "import cv2\n",
        "import shutil\n",
        "import yaml\n",
        "import warnings\n",
        "warnings.filterwarnings(\"ignore\")\n",
        "\n",
        "from glob import glob\n",
        "from tqdm import tqdm\n",
        "from sklearn.model_selection import train_test_split"
      ],
      "metadata": {
        "id": "hPVSo0J_OPbd"
      },
      "execution_count": null,
      "outputs": []
    },
    {
      "cell_type": "code",
      "source": [
        "data_path = '/content/drive/MyDrive/Colab Notebooks/ATL/합성데이터 기반 객체 탐지 AI 경진대회'"
      ],
      "metadata": {
        "id": "v756A4AuOUBO"
      },
      "execution_count": null,
      "outputs": []
    },
    {
      "cell_type": "code",
      "source": [
        "if os.path.exists(data_path + \"/data/yolo_v8\"):\n",
        "    shutil.rmtree(data_path + \"/data/yolo_v8\")\n",
        "\n",
        "if not os.path.exists(data_path + \"/data/yolo_v8/train\"):\n",
        "    os.makedirs(data_path + \"/data/yolo_v8/train\")\n",
        "\n",
        "if not os.path.exists(data_path + \"/data/yolo_v8/valid\"):\n",
        "    os.makedirs(data_path + \"/data/yolo_v8/valid\")\n",
        "\n",
        "if not os.path.exists(data_path + \"/data/yolo_v8/test\"):\n",
        "    os.makedirs(data_path + \"/data/yolo_v8/test\")"
      ],
      "metadata": {
        "id": "WtljeavqOV7A"
      },
      "execution_count": null,
      "outputs": []
    },
    {
      "cell_type": "code",
      "source": [
        "def make_yolo_dataset(image_paths, txt_paths, type=\"train\"):\n",
        "    for image_path, txt_path in tqdm(zip(image_paths, txt_paths if not type == \"test\" else image_paths), total=len(image_paths)):\n",
        "        source_image = cv2.imread(image_path, cv2.IMREAD_COLOR)\n",
        "        image_height, image_width, _ = source_image.shape\n",
        "\n",
        "        target_image_path = f\"{data_path}/data/yolo_v8/{type}/{os.path.basename(image_path)}\"\n",
        "        cv2.imwrite(target_image_path, source_image)\n",
        "\n",
        "        if type == \"test\":\n",
        "            continue\n",
        "\n",
        "        with open(txt_path, \"r\") as reader:\n",
        "            yolo_labels = []\n",
        "            for line in reader.readlines():\n",
        "                line = list(map(float, line.strip().split(\" \")))\n",
        "                class_name = int(line[0])\n",
        "                x_min, y_min = float(min(line[5], line[7])), float(min(line[6], line[8]))\n",
        "                x_max, y_max = float(max(line[1], line[3])), float(max(line[2], line[4]))\n",
        "                x, y = float(((x_min + x_max) / 2) / image_width), float(((y_min + y_max) / 2) / image_height)\n",
        "                w, h = abs(x_max - x_min) / image_width, abs(y_max - y_min) / image_height\n",
        "                yolo_labels.append(f\"{class_name} {x} {y} {w} {h}\")\n",
        "\n",
        "        target_label_txt = f\"{data_path}/data/yolo_v8/{type}/{os.path.basename(txt_path)}\"\n",
        "        with open(target_label_txt, \"w\") as writer:\n",
        "            for yolo_label in yolo_labels:\n",
        "                writer.write(f\"{yolo_label}\\n\")"
      ],
      "metadata": {
        "id": "HPD-y4rmO4FE"
      },
      "execution_count": null,
      "outputs": []
    },
    {
      "cell_type": "code",
      "source": [
        "image_paths = sorted(glob(data_path + \"/data/train/*.png\"))\n",
        "txt_paths = sorted(glob(data_path + \"/data/train/*.txt\"))\n",
        "\n",
        "train_images_paths, valid_images_paths, train_txt_paths, valid_txt_paths = train_test_split(image_paths, txt_paths, test_size=0.1, random_state=SEED)\n",
        "\n",
        "make_yolo_dataset(train_images_paths, train_txt_paths, \"train\")\n",
        "make_yolo_dataset(valid_images_paths, valid_txt_paths, \"valid\")\n",
        "make_yolo_dataset(sorted(glob(data_path + \"/data/test/*.png\")), None, \"test\")"
      ],
      "metadata": {
        "colab": {
          "base_uri": "https://localhost:8080/"
        },
        "id": "3FqiKxYBO7F8",
        "outputId": "64816cac-7d8b-4bdd-e276-47b9f4668146"
      },
      "execution_count": null,
      "outputs": [
        {
          "output_type": "stream",
          "name": "stderr",
          "text": [
            "100%|██████████| 5832/5832 [55:09<00:00,  1.76it/s]\n",
            "100%|██████████| 649/649 [15:11<00:00,  1.40s/it]\n",
            "100%|██████████| 3400/3400 [20:14<00:00,  2.80it/s]\n"
          ]
        }
      ]
    },
    {
      "cell_type": "code",
      "source": [
        "with open(data_path + \"/data/classes.txt\", \"r\") as reader:\n",
        "    lines = reader.readlines()\n",
        "    classes = [line.strip().split(\",\")[1] for line in lines]\n",
        "\n",
        "yaml_data = {\n",
        "              \"names\": classes,\n",
        "              \"nc\": len(classes),\n",
        "              \"path\": f\"{data_path}/data/yolo_v8/\",\n",
        "              \"train\": \"train\",\n",
        "              \"val\": \"valid\",\n",
        "              \"test\": \"test\"\n",
        "            }\n",
        "\n",
        "with open(data_path + \"/data/yolocustom.yaml\", \"w\") as writer:\n",
        "    yaml.dump(yaml_data, writer)"
      ],
      "metadata": {
        "id": "bl95XK-8Pp-e"
      },
      "execution_count": null,
      "outputs": []
    },
    {
      "cell_type": "code",
      "source": [
        "with open(data_path + '/data/yolocustom.yaml', 'r') as writer:\n",
        "    yolocustom_yaml = yaml.safe_load(writer)\n",
        "    display(yolocustom_yaml)"
      ],
      "metadata": {
        "id": "bQY0ugeLKTNm",
        "colab": {
          "base_uri": "https://localhost:8080/",
          "height": 714
        },
        "outputId": "49327c3f-c40f-4568-e133-3c2a570188dc"
      },
      "execution_count": null,
      "outputs": [
        {
          "output_type": "display_data",
          "data": {
            "text/plain": [
              "{'names': ['chevrolet_malibu_sedan_2012_2016',\n",
              "  'chevrolet_malibu_sedan_2017_2019',\n",
              "  'chevrolet_spark_hatchback_2016_2021',\n",
              "  'chevrolet_trailblazer_suv_2021_',\n",
              "  'chevrolet_trax_suv_2017_2019',\n",
              "  'genesis_g80_sedan_2016_2020',\n",
              "  'genesis_g80_sedan_2021_',\n",
              "  'genesis_gv80_suv_2020_',\n",
              "  'hyundai_avante_sedan_2011_2015',\n",
              "  'hyundai_avante_sedan_2020_',\n",
              "  'hyundai_grandeur_sedan_2011_2016',\n",
              "  'hyundai_grandstarex_van_2018_2020',\n",
              "  'hyundai_ioniq_hatchback_2016_2019',\n",
              "  'hyundai_sonata_sedan_2004_2009',\n",
              "  'hyundai_sonata_sedan_2010_2014',\n",
              "  'hyundai_sonata_sedan_2019_2020',\n",
              "  'kia_carnival_van_2015_2020',\n",
              "  'kia_carnival_van_2021_',\n",
              "  'kia_k5_sedan_2010_2015',\n",
              "  'kia_k5_sedan_2020_',\n",
              "  'kia_k7_sedan_2016_2020',\n",
              "  'kia_mohave_suv_2020_',\n",
              "  'kia_morning_hatchback_2004_2010',\n",
              "  'kia_morning_hatchback_2011_2016',\n",
              "  'kia_ray_hatchback_2012_2017',\n",
              "  'kia_sorrento_suv_2015_2019',\n",
              "  'kia_sorrento_suv_2020_',\n",
              "  'kia_soul_suv_2014_2018',\n",
              "  'kia_sportage_suv_2016_2020',\n",
              "  'kia_stonic_suv_2017_2019',\n",
              "  'renault_sm3_sedan_2015_2018',\n",
              "  'renault_xm3_suv_2020_',\n",
              "  'ssangyong_korando_suv_2019_2020',\n",
              "  'ssangyong_tivoli_suv_2016_2020'],\n",
              " 'nc': 34,\n",
              " 'path': '/content/drive/MyDrive/Colab Notebooks/ATL/합성데이터 기반 객체 탐지 AI 경진대회/data/yolo_v8/',\n",
              " 'test': 'test',\n",
              " 'train': 'train',\n",
              " 'val': 'valid'}"
            ]
          },
          "metadata": {}
        }
      ]
    }
  ]
}